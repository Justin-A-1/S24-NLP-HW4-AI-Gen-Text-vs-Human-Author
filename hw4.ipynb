{
 "cells": [
  {
   "cell_type": "markdown",
   "metadata": {},
   "source": [
    "NOTE TO GRADER: It is my understanding tht a pdf of my Jupyter Notebook is sufficient for submission. Please let me know if you would like, and I am happy to send you my code. Have a great day! - Justin A\n",
    "\n",
    "NOTE TO GRADER: Analysis of Part 2, 3, and 4 is all in part 5 at the end. Please also see the additional PDF containing result tables."
   ]
  },
  {
   "cell_type": "markdown",
   "metadata": {},
   "source": [
    "PART 1: \n",
    "- Go to Kaggle.com. \n",
    "- Find a text classification data set that interests you. Divide into train/test.\n",
    "- Create a graph showing the distribution of the target classes. \n",
    "- Describe the data set and what the model should be able to predict."
   ]
  },
  {
   "cell_type": "markdown",
   "metadata": {},
   "source": [
    "DESCRIPTION OF DATA SET + WHAT MODEL SHOULD BE ABLE TO PREDICT\n",
    "\n",
    "- The original data set consists of 487K+ text entries that are either written by humans or AI generated. \n",
    "- Distribution: 306K by human author, 181K AI gen. \n",
    "- For this assignment, the first 120K entries were used. \n",
    "- Distribution: 66K human author, 54K AI Gen. \n",
    "- The model should be able to predict the category: human author or AI generated.\n",
    "- Source: https://www.kaggle.com/datasets/shanegerami/ai-vs-human-text"
   ]
  },
  {
   "cell_type": "code",
   "execution_count": 1,
   "metadata": {},
   "outputs": [],
   "source": [
    "# IMPORT DATA FROM .CSV FILE, AND PUT IT IN LIST \"DATA\"\n",
    "import csv\n",
    "import os\n",
    "from itertools import islice\n",
    "\n",
    "# Get the current working directory\n",
    "current_directory = os.getcwd()\n",
    "dataset_filename = \"AI_Human.csv\"\n",
    "dataset_file_path = os.path.join(current_directory, dataset_filename)\n",
    "\n",
    "data = []\n",
    "with open(dataset_file_path, 'r', encoding = 'utf-8') as file:\n",
    "    csv_reader = csv.DictReader(file)\n",
    "    for row in islice(csv_reader,120000):\n",
    "        # Append csv row to data list\n",
    "        data.append(row)"
   ]
  },
  {
   "cell_type": "code",
   "execution_count": 2,
   "metadata": {},
   "outputs": [
    {
     "name": "stdout",
     "output_type": "stream",
     "text": [
      "Several values of x_train:\n",
      "no one is evan going to read these things so there is no point in doing this test it is wasting ever\n",
      "\n",
      "\n",
      "Car-free cities, as the term itself suggests, imply urban environments where automobiles play a li\n",
      "Studies have shown that enforcing curfews for tanagers can half caducei they likelihood of that gett\n",
      "My opinion is that we be able to vote saying the most popular votes win because why would we give ar\n",
      "The Advantages and Disadvantages of Using Technology in the Classroom\n",
      "\n",
      "As technology Continues to ad\n",
      "Dear State Senator,\n",
      "\n",
      "As a 9th grade student, I am writing to express my opinion on the matter of the\n",
      "Honestly this would raise test scores because you are encouraging student to work harder, so they ca\n",
      "Technology has revolutionized the way we live Our lives, and its impact Kn individuals' lives has be\n",
      " Have you ever wondered what would happen if you knew more about something you liked, something you \n",
      " As we journey through life, OT Os essential to cultivate the right mindset and skills that along wi\n",
      "\n",
      "Several values of y_train:\n",
      "[0, 1, 1, 0, 1, 1, 0, 1, 1, 1, 0, 0, 0, 1, 1, 0, 1, 1, 0, 1]\n"
     ]
    }
   ],
   "source": [
    "# SPLIT DATA INTO TRAIN AND TEST\n",
    "import sklearn\n",
    "from sklearn.model_selection import train_test_split\n",
    "\n",
    "# Extract 'headline' and 'is_sarcastic' from each dictionary in the data list\n",
    "text = [entry['text'] for entry in data]\n",
    "ai_generated = [int(float(entry['generated'])) for entry in data]\n",
    "\n",
    "# Split data into train and test sets\n",
    "x_train, x_test, y_train, y_test = train_test_split(text, ai_generated, test_size=0.10, random_state=92)\n",
    "\n",
    "print(\"Several values of x_train:\")\n",
    "for text in x_train[:10]:\n",
    "    print(text[:100])\n",
    "\n",
    "print(\"\\nSeveral values of y_train:\")\n",
    "print(y_train[:20])"
   ]
  },
  {
   "cell_type": "code",
   "execution_count": 3,
   "metadata": {},
   "outputs": [
    {
     "name": "stdout",
     "output_type": "stream",
     "text": [
      "ai_gen_count:54344\n",
      "not_ai_gen_count:65656\n"
     ]
    },
    {
     "data": {
      "image/png": "[encoded data removed]",
      "text/plain": [
       "<Figure size 640x480 with 1 Axes>"
      ]
     },
     "metadata": {},
     "output_type": "display_data"
    }
   ],
   "source": [
    "# PLOT THE CLASSIFICATION DISTRIBUTION IN A HISTOGRAM\n",
    "import matplotlib.pyplot as plt\n",
    "\n",
    "# count occurrences of each class (0: not ai_generated, 1: ai_generated)\n",
    "ai_gen_count = sum(y_train) + sum(y_test)\n",
    "not_ai_gen_count = len(y_train) + len(y_test) - ai_gen_count\n",
    "\n",
    "print(f\"ai_gen_count:{ai_gen_count}\")\n",
    "print(f\"not_ai_gen_count:{not_ai_gen_count}\")\n",
    "\n",
    "# graph showing distribution of target classes\n",
    "plt.bar(['Human Author', 'AI Gen'],[not_ai_gen_count, ai_gen_count])\n",
    "plt.title('Class Distribution:')\n",
    "plt.xlabel('Class')\n",
    "plt.ylabel('Number of Instances')\n",
    "plt.show()"
   ]
  },
  {
   "cell_type": "markdown",
   "metadata": {},
   "source": [
    "PART 2: CREATE A SEQUENTIAL MODEL AND EVALUATE ON THE TEST DATA"
   ]
  },
  {
   "cell_type": "markdown",
   "metadata": {},
   "source": [
    "ATTEMPT 1: \"BASIC SEQUENTIAL\""
   ]
  },
  {
   "cell_type": "code",
   "execution_count": 37,
   "metadata": {},
   "outputs": [
    {
     "name": "stdout",
     "output_type": "stream",
     "text": [
      "the: 1\n",
      "to: 2\n",
      "and: 3\n",
      "a: 4\n",
      "of: 5\n",
      "in: 6\n",
      "that: 7\n",
      "is: 8\n",
      "it: 9\n",
      "for: 10\n",
      "x_train_padded:[[111  49   8 148   2  70 122  61  37   8 111   6 188  18   9   8  57  14\n",
      "    3  29   4   5  16   4  29  14  19  84 104  16   1   8  61  85 110  40\n",
      "   25  17   1 105 191  61  47   9   2  81  15  63   2 109  37 125   2 134\n",
      "   24  13  50  40  63  15 102  72   1   5 109  17  17   2  85  22  37   3\n",
      "   17 111 111  77  29  29  32 175  18 112   8   3  29  14   1 188   9 111\n",
      "    1  19   1  19   1  41 109   1 138   8]]\n"
     ]
    }
   ],
   "source": [
    "# Tokenize, convert to sequences, and pad text to be ready for neural network\n",
    "from tensorflow.keras.preprocessing.text import Tokenizer\n",
    "from tensorflow.keras.preprocessing.sequence import pad_sequences\n",
    "import numpy as np\n",
    "from itertools import islice\n",
    "\n",
    "# initialize and fit the tokenizer on the training data\n",
    "num_words1 = 200\n",
    "tokenizer = Tokenizer(num_words = num_words1)#10000)\n",
    "tokenizer.fit_on_texts(x_train)\n",
    "\n",
    "for word, index in islice(tokenizer.word_index.items(), 10):\n",
    "    print(f'{word}: {index}')\n",
    "\n",
    "# convert texts to sequences\n",
    "x_train_sequences = tokenizer.texts_to_sequences(x_train)\n",
    "x_test_sequences = tokenizer.texts_to_sequences(x_test)\n",
    "\n",
    "# pad the text sequences\n",
    "max_length = 100\n",
    "x_train_padded = pad_sequences(x_train_sequences, maxlen = max_length, padding = 'post', truncating = 'post')\n",
    "x_test_padded = pad_sequences(x_test_sequences, maxlen = max_length, padding = 'post', truncating = 'post')\n",
    "\n",
    "# convert to numpy arrays\n",
    "x_train_padded = np.array(x_train_padded)\n",
    "x_test_padded = np.array(x_test_padded)\n",
    "y_train = np.array(y_train)\n",
    "y_test = np.array(y_test)\n",
    "\n",
    "print(f'x_train_padded:{x_train_padded[:1]}')"
   ]
  },
  {
   "cell_type": "code",
   "execution_count": 34,
   "metadata": {},
   "outputs": [
    {
     "name": "stdout",
     "output_type": "stream",
     "text": [
      "Epoch 1/5\n",
      "\u001b[1m3375/3375\u001b[0m \u001b[32m━━━━━━━━━━━━━━━━━━━━\u001b[0m\u001b[37m\u001b[0m \u001b[1m12s\u001b[0m 3ms/step - accuracy: 0.9395 - loss: 0.1603 - precision_1: 0.9521 - recall_1: 0.9104 - val_accuracy: 0.9703 - val_loss: 0.0827 - val_precision_1: 0.9699 - val_recall_1: 0.9649\n",
      "Epoch 2/5\n",
      "\u001b[1m3375/3375\u001b[0m \u001b[32m━━━━━━━━━━━━━━━━━━━━\u001b[0m\u001b[37m\u001b[0m \u001b[1m20s\u001b[0m 3ms/step - accuracy: 0.9710 - loss: 0.0784 - precision_1: 0.9735 - recall_1: 0.9624 - val_accuracy: 0.9737 - val_loss: 0.0731 - val_precision_1: 0.9866 - val_recall_1: 0.9552\n",
      "Epoch 3/5\n",
      "\u001b[1m3375/3375\u001b[0m \u001b[32m━━━━━━━━━━━━━━━━━━━━\u001b[0m\u001b[37m\u001b[0m \u001b[1m12s\u001b[0m 4ms/step - accuracy: 0.9760 - loss: 0.0661 - precision_1: 0.9782 - recall_1: 0.9687 - val_accuracy: 0.9797 - val_loss: 0.0585 - val_precision_1: 0.9791 - val_recall_1: 0.9762\n",
      "Epoch 4/5\n",
      "\u001b[1m3375/3375\u001b[0m \u001b[32m━━━━━━━━━━━━━━━━━━━━\u001b[0m\u001b[37m\u001b[0m \u001b[1m19s\u001b[0m 3ms/step - accuracy: 0.9813 - loss: 0.0540 - precision_1: 0.9824 - recall_1: 0.9761 - val_accuracy: 0.9787 - val_loss: 0.0567 - val_precision_1: 0.9844 - val_recall_1: 0.9688\n",
      "Epoch 5/5\n",
      "\u001b[1m3375/3375\u001b[0m \u001b[32m━━━━━━━━━━━━━━━━━━━━\u001b[0m\u001b[37m\u001b[0m \u001b[1m11s\u001b[0m 3ms/step - accuracy: 0.9828 - loss: 0.0475 - precision_1: 0.9842 - recall_1: 0.9778 - val_accuracy: 0.9797 - val_loss: 0.0563 - val_precision_1: 0.9871 - val_recall_1: 0.9680\n",
      "\u001b[1m375/375\u001b[0m \u001b[32m━━━━━━━━━━━━━━━━━━━━\u001b[0m\u001b[37m\u001b[0m \u001b[1m1s\u001b[0m 1ms/step - accuracy: 0.9787 - loss: 0.0609 - precision_1: 0.9872 - recall_1: 0.9654\n",
      "{'loss': 0.05628989264369011, 'compile_metrics': 0.9796666502952576}\n"
     ]
    }
   ],
   "source": [
    "from tensorflow.keras.models import Sequential\n",
    "from tensorflow.keras.layers import Embedding, Dense, GlobalAveragePooling1D\n",
    "from tensorflow.keras.metrics import Precision, Recall\n",
    "#from tensorflow.keras.callbacks import EarlyStopping\n",
    "\n",
    "model = Sequential()\n",
    "model.add(Embedding(input_dim = num_words1, output_dim = 128))# output_dim in the table refers tthis output_dim\n",
    "model.add(GlobalAveragePooling1D())\n",
    "model.add(Dense(128, activation='relu'))\n",
    "model.add(Dense(1, activation='sigmoid'))\n",
    "\n",
    "model.compile(optimizer='adam', loss='binary_crossentropy', metrics= ['accuracy', Precision(), Recall()])\n",
    "\n",
    "#set up early stopping so that the model stops if test metrics stop improving (to avoid overfitting)\n",
    "#early_stopping = EarlyStopping(monitor='val_loss', patience=3)\n",
    "\n",
    "model.fit(x_train_padded, y_train, epochs=5, validation_data = (x_test_padded, y_test))#, callbacks=[early_stopping])\n",
    "\n",
    "results = model.evaluate(x_test_padded, y_test)\n",
    "print(dict(zip(model.metrics_names, results)))"
   ]
  },
  {
   "cell_type": "markdown",
   "metadata": {},
   "source": [
    "PART 3: TRY A DIFFERENT ARCHITECTURE LIKE RNN, CNN, LSTM, ETC AND EVALUATE ON THE TEST DATA"
   ]
  },
  {
   "cell_type": "markdown",
   "metadata": {},
   "source": [
    "ATTEMPT 2: RNN"
   ]
  },
  {
   "cell_type": "code",
   "execution_count": 67,
   "metadata": {},
   "outputs": [
    {
     "name": "stdout",
     "output_type": "stream",
     "text": [
      "Epoch 1/5\n",
      "\u001b[1m3375/3375\u001b[0m \u001b[32m━━━━━━━━━━━━━━━━━━━━\u001b[0m\u001b[37m\u001b[0m \u001b[1m63s\u001b[0m 18ms/step - accuracy: 0.8090 - loss: 0.4142 - val_accuracy: 0.8937 - val_loss: 0.3176\n",
      "Epoch 2/5\n",
      "\u001b[1m3375/3375\u001b[0m \u001b[32m━━━━━━━━━━━━━━━━━━━━\u001b[0m\u001b[37m\u001b[0m \u001b[1m59s\u001b[0m 17ms/step - accuracy: 0.7993 - loss: 0.4436 - val_accuracy: 0.9150 - val_loss: 0.2622\n",
      "Epoch 3/5\n",
      "\u001b[1m3375/3375\u001b[0m \u001b[32m━━━━━━━━━━━━━━━━━━━━\u001b[0m\u001b[37m\u001b[0m \u001b[1m59s\u001b[0m 18ms/step - accuracy: 0.8209 - loss: 0.4044 - val_accuracy: 0.9030 - val_loss: 0.2727\n",
      "Epoch 4/5\n",
      "\u001b[1m3375/3375\u001b[0m \u001b[32m━━━━━━━━━━━━━━━━━━━━\u001b[0m\u001b[37m\u001b[0m \u001b[1m59s\u001b[0m 18ms/step - accuracy: 0.8099 - loss: 0.4268 - val_accuracy: 0.7418 - val_loss: 0.5459\n",
      "Epoch 5/5\n",
      "\u001b[1m3375/3375\u001b[0m \u001b[32m━━━━━━━━━━━━━━━━━━━━\u001b[0m\u001b[37m\u001b[0m \u001b[1m68s\u001b[0m 20ms/step - accuracy: 0.8307 - loss: 0.4075 - val_accuracy: 0.8478 - val_loss: 0.3347\n",
      "\u001b[1m375/375\u001b[0m \u001b[32m━━━━━━━━━━━━━━━━━━━━\u001b[0m\u001b[37m\u001b[0m \u001b[1m2s\u001b[0m 7ms/step - accuracy: 0.8446 - loss: 0.3387\n"
     ]
    },
    {
     "data": {
      "text/plain": [
       "[0.3347378373146057, 0.8477500081062317]"
      ]
     },
     "execution_count": 67,
     "metadata": {},
     "output_type": "execute_result"
    }
   ],
   "source": [
    "from tensorflow.keras.models import Sequential\n",
    "from tensorflow.keras.layers import Embedding, Dense, GlobalAveragePooling1D\n",
    "from tensorflow.keras.layers import SimpleRNN\n",
    "\n",
    "model = Sequential()\n",
    "model.add(Embedding(input_dim = num_words1, output_dim = 128))#, input_length = max_length))\n",
    "model.add(SimpleRNN(128))\n",
    "#model.add(Dense(128, activation='relu'))\n",
    "model.add(Dense(1, activation='sigmoid'))\n",
    "\n",
    "model.compile(optimizer='adam', loss='binary_crossentropy', metrics= ['accuracy'])\n",
    "\n",
    "model.fit(x_train_padded, y_train, epochs=5, validation_data = (x_test_padded, y_test))#, callbacks=[early_stopping])\n",
    "\n",
    "model.evaluate(x_test_padded, y_test)"
   ]
  },
  {
   "cell_type": "markdown",
   "metadata": {},
   "source": [
    "ATTEMPT 3: CNN"
   ]
  },
  {
   "cell_type": "code",
   "execution_count": 35,
   "metadata": {},
   "outputs": [
    {
     "name": "stdout",
     "output_type": "stream",
     "text": [
      "Epoch 1/2\n"
     ]
    },
    {
     "name": "stdout",
     "output_type": "stream",
     "text": [
      "\u001b[1m3375/3375\u001b[0m \u001b[32m━━━━━━━━━━━━━━━━━━━━\u001b[0m\u001b[37m\u001b[0m \u001b[1m62s\u001b[0m 18ms/step - accuracy: 0.9415 - loss: 0.1407 - precision_2: 0.9509 - recall_2: 0.9135 - val_accuracy: 0.9861 - val_loss: 0.0405 - val_precision_2: 0.9889 - val_recall_2: 0.9804\n",
      "Epoch 2/2\n",
      "\u001b[1m3375/3375\u001b[0m \u001b[32m━━━━━━━━━━━━━━━━━━━━\u001b[0m\u001b[37m\u001b[0m \u001b[1m63s\u001b[0m 19ms/step - accuracy: 0.9886 - loss: 0.0337 - precision_2: 0.9895 - recall_2: 0.9853 - val_accuracy: 0.9897 - val_loss: 0.0301 - val_precision_2: 0.9914 - val_recall_2: 0.9859\n",
      "\u001b[1m375/375\u001b[0m \u001b[32m━━━━━━━━━━━━━━━━━━━━\u001b[0m\u001b[37m\u001b[0m \u001b[1m2s\u001b[0m 6ms/step - accuracy: 0.9866 - loss: 0.0383 - precision_2: 0.9890 - recall_2: 0.9812\n",
      "{'loss': 0.030137520283460617, 'compile_metrics': 0.9896666407585144}\n"
     ]
    }
   ],
   "source": [
    "from tensorflow.keras.models import Sequential\n",
    "from tensorflow.keras.layers import Embedding, Dense, GlobalAveragePooling1D\n",
    "from tensorflow.keras.layers import Conv1D, MaxPooling1D, Flatten\n",
    "from tensorflow.keras.metrics import Precision, Recall\n",
    "\n",
    "model = Sequential()\n",
    "model.add(Embedding(input_dim=num_words1, output_dim=128))\n",
    "model.add(Conv1D(128, 5, activation='relu'))  # Convolutional layer\n",
    "model.add(MaxPooling1D(5))\n",
    "model.add(Flatten())\n",
    "model.add(Dense(128, activation='relu'))\n",
    "model.add(Dense(1, activation='sigmoid'))\n",
    "\n",
    "model.compile(optimizer='adam', loss='binary_crossentropy', metrics= ['accuracy', Precision(), Recall()])\n",
    "\n",
    "model.fit(x_train_padded, y_train, epochs=2, validation_data = (x_test_padded, y_test))#, callbacks=[early_stopping])\n",
    "\n",
    "results = model.evaluate(x_test_padded, y_test)\n",
    "print(dict(zip(model.metrics_names, results)))"
   ]
  },
  {
   "cell_type": "markdown",
   "metadata": {},
   "source": [
    "ATTEMPT 4: LSTM"
   ]
  },
  {
   "cell_type": "code",
   "execution_count": 70,
   "metadata": {},
   "outputs": [
    {
     "name": "stdout",
     "output_type": "stream",
     "text": [
      "Epoch 1/5\n",
      "\u001b[1m3375/3375\u001b[0m \u001b[32m━━━━━━━━━━━━━━━━━━━━\u001b[0m\u001b[37m\u001b[0m \u001b[1m187s\u001b[0m 54ms/step - accuracy: 0.9303 - loss: 0.1784 - val_accuracy: 0.9703 - val_loss: 0.0878\n",
      "Epoch 2/5\n",
      "\u001b[1m3375/3375\u001b[0m \u001b[32m━━━━━━━━━━━━━━━━━━━━\u001b[0m\u001b[37m\u001b[0m \u001b[1m185s\u001b[0m 55ms/step - accuracy: 0.9700 - loss: 0.0874 - val_accuracy: 0.9688 - val_loss: 0.0910\n",
      "Epoch 3/5\n",
      "\u001b[1m3375/3375\u001b[0m \u001b[32m━━━━━━━━━━━━━━━━━━━━\u001b[0m\u001b[37m\u001b[0m \u001b[1m183s\u001b[0m 54ms/step - accuracy: 0.9762 - loss: 0.0678 - val_accuracy: 0.9749 - val_loss: 0.0688\n",
      "Epoch 4/5\n",
      "\u001b[1m3375/3375\u001b[0m \u001b[32m━━━━━━━━━━━━━━━━━━━━\u001b[0m\u001b[37m\u001b[0m \u001b[1m185s\u001b[0m 55ms/step - accuracy: 0.9819 - loss: 0.0533 - val_accuracy: 0.9817 - val_loss: 0.0524\n",
      "Epoch 5/5\n",
      "\u001b[1m3375/3375\u001b[0m \u001b[32m━━━━━━━━━━━━━━━━━━━━\u001b[0m\u001b[37m\u001b[0m \u001b[1m187s\u001b[0m 55ms/step - accuracy: 0.9856 - loss: 0.0428 - val_accuracy: 0.9848 - val_loss: 0.0491\n",
      "\u001b[1m375/375\u001b[0m \u001b[32m━━━━━━━━━━━━━━━━━━━━\u001b[0m\u001b[37m\u001b[0m \u001b[1m8s\u001b[0m 21ms/step - accuracy: 0.9833 - loss: 0.0539\n"
     ]
    },
    {
     "data": {
      "text/plain": [
       "[0.0491107739508152, 0.9848333597183228]"
      ]
     },
     "execution_count": 70,
     "metadata": {},
     "output_type": "execute_result"
    }
   ],
   "source": [
    "from tensorflow.keras.models import Sequential\n",
    "from tensorflow.keras.layers import Embedding, Dense, GlobalAveragePooling1D\n",
    "from tensorflow.keras.layers import LSTM\n",
    "\n",
    "model = Sequential()\n",
    "model.add(Embedding(input_dim=num_words1, output_dim=128))\n",
    "model.add(LSTM(128))  # LSTM layer\n",
    "model.add(Dense(128, activation='relu'))\n",
    "model.add(Dense(1, activation='sigmoid'))\n",
    "\n",
    "model.compile(optimizer='adam', loss='binary_crossentropy', metrics= ['accuracy'])\n",
    "\n",
    "model.fit(x_train_padded, y_train, epochs=5, validation_data = (x_test_padded, y_test))#, callbacks=[early_stopping])\n",
    "\n",
    "model.evaluate(x_test_padded, y_test)"
   ]
  },
  {
   "cell_type": "markdown",
   "metadata": {},
   "source": [
    "PART 4: TRY DIFFERENT EMBEDDING APPROACHES FOR YOUR BEST PERFORMING MODEL IN STEP 3, AND EVALUATE ON THE TEST DATA"
   ]
  },
  {
   "cell_type": "markdown",
   "metadata": {},
   "source": [
    "BEST PERFORMING MODEL: CNN WITH 2 EPOCHS"
   ]
  },
  {
   "cell_type": "markdown",
   "metadata": {},
   "source": [
    "ATTEMPT 5: DIFFERENT EMBEDDING APPROACHES WITH CNN WITH 2 EPOCHS"
   ]
  },
  {
   "cell_type": "code",
   "execution_count": 46,
   "metadata": {},
   "outputs": [
    {
     "name": "stdout",
     "output_type": "stream",
     "text": [
      "Epoch 1/2\n",
      "\u001b[1m3375/3375\u001b[0m \u001b[32m━━━━━━━━━━━━━━━━━━━━\u001b[0m\u001b[37m\u001b[0m \u001b[1m22s\u001b[0m 6ms/step - accuracy: 0.8956 - loss: 0.2500 - precision_10: 0.9001 - recall_10: 0.8550 - val_accuracy: 0.9387 - val_loss: 0.1601 - val_precision_10: 0.9351 - val_recall_10: 0.9300\n",
      "Epoch 2/2\n",
      "\u001b[1m3375/3375\u001b[0m \u001b[32m━━━━━━━━━━━━━━━━━━━━\u001b[0m\u001b[37m\u001b[0m \u001b[1m41s\u001b[0m 6ms/step - accuracy: 0.9382 - loss: 0.1655 - precision_10: 0.9365 - recall_10: 0.9261 - val_accuracy: 0.9269 - val_loss: 0.1850 - val_precision_10: 0.8796 - val_recall_10: 0.9730\n",
      "\u001b[1m375/375\u001b[0m \u001b[32m━━━━━━━━━━━━━━━━━━━━\u001b[0m\u001b[37m\u001b[0m \u001b[1m1s\u001b[0m 2ms/step - accuracy: 0.9284 - loss: 0.1876 - precision_10: 0.8808 - recall_10: 0.9733\n",
      "{'loss': 0.1850082129240036, 'compile_metrics': 0.9269166588783264}\n"
     ]
    }
   ],
   "source": [
    "from tensorflow.keras.models import Sequential\n",
    "from tensorflow.keras.layers import Embedding, Dense, GlobalAveragePooling1D\n",
    "from tensorflow.keras.layers import Conv1D, MaxPooling1D, Flatten\n",
    "from tensorflow.keras.metrics import Precision, Recall\n",
    "\n",
    "model = Sequential()\n",
    "model.add(Embedding(input_dim=num_words1, output_dim=2)) #output_dim in the table refers to this line\n",
    "model.add(Conv1D(128, 5, activation='relu'))  # Convolutional layer\n",
    "model.add(MaxPooling1D(5))\n",
    "model.add(Flatten())\n",
    "model.add(Dense(128, activation='relu'))\n",
    "model.add(Dense(1, activation='sigmoid'))\n",
    "\n",
    "model.compile(optimizer='adam', loss='binary_crossentropy', metrics= ['accuracy', Precision(), Recall()])\n",
    "\n",
    "model.fit(x_train_padded, y_train, epochs=2, validation_data = (x_test_padded, y_test))#, callbacks=[early_stopping])\n",
    "\n",
    "results = model.evaluate(x_test_padded, y_test)\n",
    "print(dict(zip(model.metrics_names, results)))"
   ]
  },
  {
   "cell_type": "markdown",
   "metadata": {},
   "source": [
    "PART 5: ANALYSIS OF PREVIOUS PARTS\n",
    "- See additional PDF for evaluation tables.\n",
    "\n",
    "ANALYSIS OF PART 2:\n",
    "- While not explitly required, I decided to test 21 different versions of my original sequential model. As shown in the additional PDF's evaluation tables, I varied epochs, Num. of Words in Tokenizer, and Text Sequence Max Length. (Here, Num. of Words in tokenizer is how many of the most frequent words across training data were used in the model. Text Sequence Max Length is the length of the test sequence used to classify each instance as AI or human authored.)\n",
    "- Using accuracy by itself, I compared different options and selected one\n",
    "- After that, I calculated precision and recall of the selected option to confirm they were good\n",
    "- This is a remarkable data set - even with only 1 epoch, 5 words in the tokenizer, and a text sequence length of 5, it still achieved ***59% accuracy***! That's astonishing.\n",
    "- Full results can be seen in the additional PDF's table.\n",
    "- Increasing epochs from 1 to 5 to 10 had almost no impact\n",
    "- Num. of Words in Tokenizer and Text Sequence Max Length were increased together, and each increase had a noticeable impact until diminishing returns were hit at 800 words in tokenizer and text sequence max length of 100. This combination achieved 98.18% accuracy, so further returns were increasingly diminished simply because there wasn't much room left to improve. \n",
    "- Even 10000 words in tokenizer only did a little better.\n",
    "- With 800 words in tokenizer and text sequence max length of 100 chosen, precision and recall were found to be a reasonable 98.7% and 96.5%\n",
    "- Overall, these 96-98% results for accuracy/precision/recall indicate that the data set certainly does have sufficient information to classify nearly all data entries properly.\n",
    "- Again, see the additional PDF's table for full results.\n",
    "- This 800+100 pair of parameters, with 5 epochs, was chosen for comparison in part 3.\n",
    "\n",
    "ANALYSIS OF PART 3:\n",
    "- The following models were tried at 800 words in tokenizer, 100 text sequence max length, and 5 and sometimes 2 epochs: RNN+Dense Layer, RNN, CNN, LSTM\n",
    "- Full results can be seen in the additional PDF's table.\n",
    "- The basic sequential model, from Part 2, was the benchmark with 98.183% accuracy\n",
    "- RNN+Dense layer performed most poorly, with 70.7% accuracy! This is likely due to overfitting.\n",
    "- RNN was next most poor performing, with 84.8% accuracy. Again, overfitting may play a role here.\n",
    "- Since the two worst performing models were the RNNs, it is likely that their ability to maintain \"memory\" of previous inputs is actually harmful in this exercise. What does that mean? It means that remembering and focusing on key words from way way back early in the text actually makes it harder for the model to distinguish between human author and AI author. For whatever reason, these results suggest that a long memory makes human and AI authored works seem more similar - where as the basic sequential model, which is more focused on word counts overall, does not run into this trouble and hence earns more accuracy.\n",
    "- But, oddly, LSTM performed slightly better than basic sequential (about 0.4% higher accuracy), which strongly implies that it's long term memory was not a hidrance, and possibly even a minor asset. I have no idea why this is. It may be due to: an uncaught bug in the code, some unidentified weakness in RNNs unrelated to my early thoughts on them, or something else entirely. Perhaps the Tensorflow Keras LSTM model has some ability to turn off it's memory that the RNNs lack. That would allow it to bypass the problems I outlined in the previous bullet. This whole issue is a head scratcher.\n",
    "- Finally, the two best performing models were CNN with 5 and 2 epochs. This may indicate that their ability to recognize spatial patterns in the data may give them a slight edge.\n",
    "- Bizarrely, the 2 epoch CNN outperformed the 5 epoch CNN. It seems likely that this is due either to slight over fitting, or else is due to random noise. (their accuracies are very close to each other - within 0.017%!)\n",
    "- The small number of epochs is likely because the data set - 120K entries - is huge, meaning that each epoch covers a lot of ground.\n",
    "- Frankly, sharing 800 words in tokenizer and 100 text sequence max length, all of basic sequential, LSTM, and CNN performed between 98% and 99%, which seems to indicate that the model choice was relatively unimportant. Regardless of the model, the data left siginificant enough \"clues\" that multiple models were able to achieve simliarly high accuracy.\n",
    "- Nonetheless, the CNN with 2 epochs model was chosen \n",
    "\n",
    "ANALYSIS OF PART 4:\n",
    "- Finally, different embeding approaches were done. First, the number of words in teh tokenizer was varied from 800 down to just 5. With a number selected, the next cange was to vary the output dimensions of the embedding layer from 128 down to just 2.\n",
    "- See full results in the additional PDF's table.\n",
    "- Number of words in tokenizer: Accuracy did not decrease significantly from 800 to 600 to 400 and even down to 200. Only at 100 and below did accuracy begin to decrease more significantly. So, 200 words in tokenizer was selected for efficiency.\n",
    "- Output dimensions of the embedding layer was 128 for all previous models mentioned in Parts 2, 3, and 4.\n",
    "- Here, it was singularly bumped up to 256, and also decreased to 64, 32, 16, 8, 4, and 2.\n",
    "- Accuracy loss was minimal down to output_dim = 16, so this was chosen for efficiency.\n",
    "- The 200 words in tokenizer, 16 output dimensions for embedding layer, 2 epoch CNN model was the final model chosen. Accuracy: 97.175%, Precision: 97.060%, Recall: 97.080%\n",
    "- What can we learn from these parameters?\n",
    "- First, the 200 words in tokenizer maintaining high accuracy suggests that when words across all samples are sorted by frequency, only the top 200 most frequent words are needed to classify the data with a high accuracy, precision, etc. In other words, word 201 and on are just not that important.\n",
    "- It may be true that very few of the top 200 words are important. Testing was not done on top 120, 140, 160, 180, etc - the closest lower grouping was 100. But, 100 did suffer lower accuracy, indicating that on top of several words in the top 100 being important, at least *some* word in the 101-200 range is also important\n",
    "- The 16 output dimensions for embedding layer suggests that whatever important information this list of 200 words contains - it is quite compressible. Perhaps only a handful of the top 200 words are needed, or perhaps more are needed but the equations somehow compress them.\n",
    "- It was determined in Part 2, but it's worth noting that the 100 word max text sequence indicates that the classification's hand is sufficiently \"revealed\" after just 100 key words from the top 200 list. Additional words provide minimal improvement.\n",
    "\n",
    "OVERALL TAKEAWAY\n",
    "- Overall, this AI text generator is bad at it's job. A simple separate AI programmed by a grad student for a homework assignment can sniff out this AI text generator with 98% accuracy through a not-that-complicated process. That means this AI is leaving clear clues that human authors are not. The poor quality of the original AI text generator - it's inability to hide itself amongst real human writing - is probably the plainest takeaway from this investigation. While it may fool humans, when another AI comes to snoop for clues, they stick out as clearly as a ketchup stain on a white shirt.\n",
    "- Surely analysis of my neural networks would reveal the clues they find, which themselves would point the way towards making an AI that can mimic human authors more accurately."
   ]
  },
  {
   "cell_type": "markdown",
   "metadata": {},
   "source": []
  }
 ],
 "metadata": {
  "kernelspec": {
   "display_name": "Python 3",
   "language": "python",
   "name": "python3"
  },
  "language_info": {
   "codemirror_mode": {
    "name": "ipython",
    "version": 3
   },
   "file_extension": ".py",
   "mimetype": "text/x-python",
   "name": "python",
   "nbconvert_exporter": "python",
   "pygments_lexer": "ipython3",
   "version": "3.11.7"
  }
 },
 "nbformat": 4,
 "nbformat_minor": 2
}
